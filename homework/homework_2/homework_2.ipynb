{
 "cells": [
  {
   "cell_type": "markdown",
   "id": "6ee4a697",
   "metadata": {},
   "source": [
    "### EAS B9018 - Homework 2, Photogrammetry"
   ]
  },
  {
   "cell_type": "code",
   "execution_count": 1,
   "id": "5f549252",
   "metadata": {},
   "outputs": [],
   "source": [
    "import numpy as np"
   ]
  },
  {
   "cell_type": "markdown",
   "id": "94daca16",
   "metadata": {},
   "source": [
    "#### Problem 1\n",
    "The image formed by a digital camera on the detector array of photodiodes is 24 x 36 mm, and is equal to the size of the detector array. Assuming the individual photodiode detector elements have a size of 5 um, how many pixels will the digital camera resolve? (Express your answer in megapixels.) "
   ]
  },
  {
   "cell_type": "code",
   "execution_count": 39,
   "id": "4f9844cf",
   "metadata": {},
   "outputs": [
    {
     "name": "stdout",
     "output_type": "stream",
     "text": [
      "Number of pixels: 34560000.00 megapixels\n"
     ]
    }
   ],
   "source": [
    "image_width = 0.024 \n",
    "image_height = 0.036\n",
    "size = 5e-6\n",
    "\n",
    "N = (image_width * image_height / (size ** 2))\n",
    "\n",
    "print('Number of pixels: {0:.2f} megapixels'.format(N))"
   ]
  },
  {
   "cell_type": "markdown",
   "id": "473834f1",
   "metadata": {},
   "source": [
    "#### Problem 2\n",
    "Consider a digital imaging sensor flown on an airplane. The optical system has a focal length of 7 cm. The imaging detector array is 15 cm x 15 cm."
   ]
  },
  {
   "cell_type": "code",
   "execution_count": 33,
   "id": "b5dbc341",
   "metadata": {},
   "outputs": [],
   "source": [
    "# Image focal length (m)\n",
    "f = 0.07\n",
    "# Image array length (m)\n",
    "l_image = 0.15\n",
    "# Assume sea-level terrain elevation (m)\n",
    "h = 0"
   ]
  },
  {
   "cell_type": "markdown",
   "id": "62b02df5",
   "metadata": {},
   "source": [
    "(a) What altitude must the aircraft fly in order to image an area 10 km x 10 km?"
   ]
  },
  {
   "cell_type": "code",
   "execution_count": 34,
   "id": "ab45de1a",
   "metadata": {},
   "outputs": [
    {
     "name": "stdout",
     "output_type": "stream",
     "text": [
      "Height above ground: 4666.67 m\n"
     ]
    }
   ],
   "source": [
    "# Ground image length (m)\n",
    "l_ground = 10e3\n",
    "# Scale\n",
    "S = l_image / l_ground\n",
    "# Height above ground\n",
    "H = f/S + h\n",
    "\n",
    "print('Height above ground: {0:.2f} m'.format(H))"
   ]
  },
  {
   "cell_type": "markdown",
   "id": "9d5328ac",
   "metadata": {},
   "source": [
    "(b) If the pixel pitch for the sensor’s detector array is 5 mm (as in problem 1), what is the resolution of the system assuming the aircraft flies at the altitude in (a)?"
   ]
  },
  {
   "cell_type": "code",
   "execution_count": 35,
   "id": "8d6a357b",
   "metadata": {},
   "outputs": [
    {
     "name": "stdout",
     "output_type": "stream",
     "text": [
      "Ground image spatial resolution: 0.33 m\n"
     ]
    }
   ],
   "source": [
    "# Pixel pitch on detector array (m)\n",
    "p_i = 5e-6\n",
    "# Resolution at print positive (m)\n",
    "r_i = p_i\n",
    "# Ground image spatial resolution (m)\n",
    "r_g = r_i / S\n",
    "\n",
    "print('Ground image spatial resolution: {0:.2f} m'.format(r_g))"
   ]
  },
  {
   "cell_type": "markdown",
   "id": "9f75b225",
   "metadata": {},
   "source": [
    "(c) If the system photographs a 25 meter tall tower, located 550 meters along track from directly under the camera, what is the displacement of the top of the tower in the image plane (i.e. on the detector array) relative to the bottom of the building?"
   ]
  },
  {
   "cell_type": "code",
   "execution_count": 36,
   "id": "14e1720c",
   "metadata": {},
   "outputs": [
    {
     "name": "stdout",
     "output_type": "stream",
     "text": [
      "Displacement of the datum top on the image plane: 0.000044 m\n"
     ]
    }
   ],
   "source": [
    "# Distance of feature along track from the camera (m)\n",
    "R = 550\n",
    "# Height of feature above datum (m)\n",
    "h_feature = 25\n",
    "# Calculate offset distance of feature top on the datum plane (m)\n",
    "D = R*h_feature/H\n",
    "# Use similar triangles to find radial distance on the image from the principal point to the feature (m)\n",
    "r = f*R/H\n",
    "# Calculate relief displacement in the image plane (m)\n",
    "d = r*h_feature/H\n",
    "\n",
    "print('Displacement of the datum top on the image plane: {0:.6f} m'.format(d))"
   ]
  },
  {
   "cell_type": "markdown",
   "id": "1c2ac94e",
   "metadata": {},
   "source": [
    "(d) Consider now that you wish to image a 15 km x 15 km area. \n",
    "- Now what altitude must the aircraft fly? \n",
    "- Now what is the spatial resolution of the system?"
   ]
  },
  {
   "cell_type": "code",
   "execution_count": 38,
   "id": "e456943c",
   "metadata": {},
   "outputs": [
    {
     "name": "stdout",
     "output_type": "stream",
     "text": [
      "Height above ground: 7000.00 m\n",
      "Ground image spatial resolution: 0.50 m\n"
     ]
    }
   ],
   "source": [
    "# Ground image length (m)\n",
    "l_ground = 15e3\n",
    "# Scale\n",
    "S_ = l_image / l_ground\n",
    "# Height above ground\n",
    "H_ = f/S_ + h\n",
    "# Ground image spatial resolution (m)\n",
    "r_g_ = r_i / S_\n",
    "\n",
    "print('Height above ground: {0:.2f} m'.format(H_))\n",
    "print('Ground image spatial resolution: {0:.2f} m'.format(r_g_))"
   ]
  }
 ],
 "metadata": {
  "kernelspec": {
   "display_name": "Python 3 (ipykernel)",
   "language": "python",
   "name": "python3"
  },
  "language_info": {
   "codemirror_mode": {
    "name": "ipython",
    "version": 3
   },
   "file_extension": ".py",
   "mimetype": "text/x-python",
   "name": "python",
   "nbconvert_exporter": "python",
   "pygments_lexer": "ipython3",
   "version": "3.8.8"
  }
 },
 "nbformat": 4,
 "nbformat_minor": 5
}
